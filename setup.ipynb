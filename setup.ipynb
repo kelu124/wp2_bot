{
 "cells": [
  {
   "cell_type": "code",
   "execution_count": 1,
   "metadata": {},
   "outputs": [],
   "source": [
    "%load_ext autoreload\n",
    "%autoreload 2"
   ]
  },
  {
   "cell_type": "code",
   "execution_count": 3,
   "metadata": {},
   "outputs": [],
   "source": [
    "import OAI\n",
    "import intern\n",
    "import pandas as pd"
   ]
  },
  {
   "cell_type": "code",
   "execution_count": 5,
   "metadata": {},
   "outputs": [],
   "source": [
    "from definitions import CERNA"
   ]
  },
  {
   "cell_type": "code",
   "execution_count": 4,
   "metadata": {},
   "outputs": [],
   "source": [
    "h = OAI.Helper(\"wp2_assistant\")\n",
    "# h.ask(CONTEXT,Q,v=\"gpt-3.5-turbo-16k-0613\",ow=False,src=\"none\",seed=\"\")"
   ]
  },
  {
   "cell_type": "code",
   "execution_count": 6,
   "metadata": {},
   "outputs": [],
   "source": [
    "F, A = intern.flavors, list(intern.angles.keys())"
   ]
  },
  {
   "cell_type": "code",
   "execution_count": 16,
   "metadata": {},
   "outputs": [
    {
     "name": "stdout",
     "output_type": "stream",
     "text": [
      "Social Level of Analysis\n",
      "Processing with gpt-3.5-turbo-16k-0613 :\t 06/06/2024, 13:16:52 --> 06/06/2024, 13:16:55\n",
      "Social Spatial scope\n",
      "Processing with gpt-3.5-turbo-16k-0613 :\t 06/06/2024, 13:16:55 --> 06/06/2024, 13:16:57\n",
      "Social Time Horizon\n",
      "Processing with gpt-3.5-turbo-16k-0613 :\t 06/06/2024, 13:16:57 --> 06/06/2024, 13:16:59\n",
      "Environmental Level of Analysis\n",
      "Processing with gpt-3.5-turbo-16k-0613 :\t 06/06/2024, 13:16:59 --> 06/06/2024, 13:17:01\n",
      "Environmental Spatial scope\n",
      "Processing with gpt-3.5-turbo-16k-0613 :\t 06/06/2024, 13:17:01 --> 06/06/2024, 13:17:04\n",
      "Environmental Time Horizon\n",
      "Processing with gpt-3.5-turbo-16k-0613 :\t 06/06/2024, 13:17:04 --> 06/06/2024, 13:17:06\n",
      "Economic Level of Analysis\n",
      "Processing with gpt-3.5-turbo-16k-0613 :\t 06/06/2024, 13:17:06 --> 06/06/2024, 13:17:09\n",
      "Economic Spatial scope\n",
      "Processing with gpt-3.5-turbo-16k-0613 :\t 06/06/2024, 13:17:09 --> 06/06/2024, 13:17:10\n",
      "Economic Time Horizon\n",
      "Processing with gpt-3.5-turbo-16k-0613 :\t 06/06/2024, 13:17:11 --> 06/06/2024, 13:17:12\n",
      "Political Level of Analysis\n",
      "Processing with gpt-3.5-turbo-16k-0613 :\t 06/06/2024, 13:17:13 --> 06/06/2024, 13:17:14\n",
      "Political Spatial scope\n",
      "Processing with gpt-3.5-turbo-16k-0613 :\t 06/06/2024, 13:17:15 --> 06/06/2024, 13:17:17\n",
      "Political Time Horizon\n",
      "Processing with gpt-3.5-turbo-16k-0613 :\t 06/06/2024, 13:17:17 --> 06/06/2024, 13:17:18\n",
      "Educational Level of Analysis\n",
      "Processing with gpt-3.5-turbo-16k-0613 :\t 06/06/2024, 13:17:19 --> 06/06/2024, 13:17:20\n",
      "Educational Spatial scope\n",
      "Processing with gpt-3.5-turbo-16k-0613 :\t 06/06/2024, 13:17:20 --> 06/06/2024, 13:17:22\n",
      "Educational Time Horizon\n",
      "Processing with gpt-3.5-turbo-16k-0613 :\t 06/06/2024, 13:17:22 --> 06/06/2024, 13:17:25\n",
      "Innovative Process Level of Analysis\n",
      "Processing with gpt-3.5-turbo-16k-0613 :\t 06/06/2024, 13:17:25 --> 06/06/2024, 13:17:27\n",
      "Innovative Process Spatial scope\n",
      "Processing with gpt-3.5-turbo-16k-0613 :\t 06/06/2024, 13:17:28 --> 06/06/2024, 13:17:30\n",
      "Innovative Process Time Horizon\n",
      "Processing with gpt-3.5-turbo-16k-0613 :\t 06/06/2024, 13:17:30 --> 06/06/2024, 13:17:33\n"
     ]
    }
   ],
   "source": [
    "CERNA_review = {}\n",
    "for f in F:\n",
    "    CERNA_review[f] = {}\n",
    "    for a in A:\n",
    "        print(f,a)\n",
    "        P = intern.createBackground(f, a)\n",
    "        assessment = h.ask(P,CERNA,v=\"gpt-3.5-turbo-16k-0613\",ow=False,src=\"none\",seed=\"\")\n",
    "        CERNA_review[f][a] = assessment"
   ]
  },
  {
   "cell_type": "code",
   "execution_count": 21,
   "metadata": {},
   "outputs": [
    {
     "data": {
      "text/plain": [
       "{'Social': {'Level of Analysis': '* Macro\\nThe text proposes the use of a Climate and Energy Related Norms and Attitudes survey to assess the knowledge, attitudes, and behaviors related to energy and climate change in the PROBONO Living Labs. The survey aims to address cognitive biases and misconceptions, such as the false consensus effect and the availability heuristic, that may influence energy and environment-related behaviors. The results of the survey will inform the design of interventions, such as targeted communications and policy recommendations, to promote more sustainable behaviors and engage the public in climate action.',\n",
       "  'Spatial scope': '* Regional\\n* The text proposes the use of a survey, called the Climate and Energy Related Norms and Attitudes (CERNA) survey, to assess the knowledge, attitudes, and behaviors related to energy literacy and climate change literacy. The survey will be administered in all six PROBONO Living Labs, with a focus on understanding the gaps in public understanding on climate issues and identifying misconceptions that can be addressed through targeted interventions. The goal is to promote more sustainable behaviors and engage the public in dialogue to inform future policies and maximize their potential.',\n",
       "  'Time Horizon': '* Mid term\\n* The proposed social and behavioral research and innovation approaches aim to address cognitive biases and misconceptions in order to change energy and environment-related behavior. The Climate and Energy Related Norms and Attitudes survey will assess energy literacy, climate change literacy, and pluralistic ignorance to inform interventions and policies that promote more sustainable behaviors. The focus is on increasing awareness and understanding of energy-saving actions and the anthropogenic causes, impacts, and solutions of climate change. Targeted communications and peer influence interventions may be used to encourage pro-environmental attitudes and behavior change.'},\n",
       " 'Environmental': {'Level of Analysis': '* Meso\\n* The text proposes a Climate and Energy Related Norms and Attitudes (CERNA) survey as a social and behavioral research and innovation approach to address cognitive biases and misconceptions related to energy and environment-related behavior. The survey aims to assess energy literacy, climate change literacy, and pluralistic ignorance in order to inform interventions and communication strategies targeted at improving public understanding and promoting sustainable behaviors. The focus is on raising awareness, addressing misconceptions, and leveraging social norms to drive behavior change and policy-making in the context of the PROBONO Living Labs.',\n",
       "  'Spatial scope': '* Local\\nPromoting sustainable, climate-friendly, and energy-efficient behaviors requires addressing cognitive biases and heuristics that influence decision-making. To assess the norms and attitudes related to climate and energy, the proposed Climate and Energy Related Norms and Attitudes (CERNA) survey will be administered in the PROBONO Living Labs. The survey will focus on energy literacy, climate change literacy, and pluralistic ignorance to identify misconceptions, gaps in knowledge, and social norms that can be targeted through interventions like nudging stickers, policy recommendations, and providing energy toolkits. The aim is to promote behavior change and create a more sustainable community in the local living labs.',\n",
       "  'Time Horizon': \"* Mid term\\n* The text proposes the use of a Climate and Energy Related Norms and Attitudes (CERNA) survey to assess people's knowledge, attitudes, and behaviors related to energy and climate change. The survey aims to identify misconceptions and gaps in understanding in order to inform targeted interventions and communication strategies. The focus is on promoting energy-saving behaviors and addressing cognitive biases that may hinder behavior change. The proposed survey approach can contribute to the development of a Green Building Neighbourhood by promoting pro-environmental social norms and maximizing the effectiveness of interventions.\"},\n",
       " 'Economic': {'Level of Analysis': '* Macro\\nThe text proposes the use of a Climate and Energy Related Norms and Attitudes (CERNA) survey to assess the knowledge, attitudes, and behaviors related to energy and climate change. The survey aims to understand the cognitive biases that affect decision-making in these areas and address them through targeted interventions. The survey will inform the design of practical interventions, such as nudging stickers on household appliances or providing households with energy toolkits, to promote more sustainable behaviors. Additionally, the survey will assess climate change literacy and pluralistic ignorance, which can impact public attitudes and support for climate policies. Overall, this approach seeks to diagnose the factors that influence behavior and inform effective interventions and policies.',\n",
       "  'Spatial scope': \"* National\\n* The text contains a proposed social and behavioral research approach called Climate and Energy Related Norms and Attitudes (CERNA) survey. This survey aims to assess people's awareness, knowledge, attitudes, and behaviors related to energy efficiency and climate change. The survey will be administered in PROBONO Living Labs, and the data gathered will inform the design of interventions and policies targeted at addressing gaps in public understanding and promoting sustainable behaviors.\",\n",
       "  'Time Horizon': '* Short term\\n* The text proposes administering a Climate and Energy Related Norms and Attitudes (CERNA) survey in the PROBONO Living Labs to assess people\\'s knowledge, attitudes, and behaviors related to energy and climate change. The survey aims to identify misconceptions and gaps in understanding in order to design targeted interventions, such as nudging stickers on household appliances or providing households with \"energy toolkits.\" By addressing cognitive biases and pluralistic ignorance, the proposed approach aims to facilitate behavior change and promote pro-environmental social norms.'},\n",
       " 'Political': {'Level of Analysis': '* Macro\\nThe text discusses the need for understanding and addressing cognitive biases and misconceptions in order to change energy and environment-related behavior. It proposes the use of a Climate and Energy Related Norms and Attitudes (CERNA) survey to gather data on energy literacy, climate change literacy, and pluralistic ignorance. The survey aims to inform the design of interventions and communication strategies targeted at the identified gaps in public understanding and awareness of climate issues. The focus is on engaging the public and ensuring that interventions are effective and avoid polarization.',\n",
       "  'Spatial scope': \"* Local\\nThe text proposes the administration of a Climate and Energy Related Norms and Attitudes (CERNA) survey in PROBONO Living Labs at a local level to assess people's knowledge, attitudes, and behaviors related to energy and climate change. The survey aims to understand the gaps in public understanding and identify misconceptions that can be addressed through tailored interventions such as targeted communications, nudging stickers, policy recommendations, and providing households with energy toolkits. The focus is on engaging the community and ensuring that interventions are effective and well-received.\",\n",
       "  'Time Horizon': \"* Mid term\\n* The text describes the proposed use of a Climate and Energy Related Norms and Attitudes (CERNA) survey in order to gather data on public knowledge, attitudes, and behaviors related to energy and climate change. The survey aims to address cognitive biases and misconceptions that may hinder behavior change towards more sustainable practices. The data collected will inform the design of interventions and communications targeted at the identified gaps in public understanding. The text emphasizes the importance of public engagement and listening to the community's knowledge and interests before implementing top-down interventions.\"},\n",
       " 'Educational': {'Level of Analysis': \"* Micro\\nThe text contains a proposal for a Climate and Energy Related Norms and Attitudes (CERNA) survey to be administered in six PROBONO Living Labs. The survey aims to assess people's energy literacy, climate change literacy, and pluralistic ignorance related to energy and environmental behaviors. The survey results will inform the design of interventions and communication strategies to promote sustainable behaviors in the targeted communities.\",\n",
       "  'Spatial scope': '* Local\\n* The social innovation proposes to administer a survey called Climate and Energy Related Norms and Attitudes (CERNA) in all six PROBONO Living Labs, focusing on energy and climate literacy, as well as pluralistic ignorance. The survey aims to assess the knowledge, attitudes, and behaviors of individuals regarding energy efficiency and climate change. The findings from the survey will inform the design of interventions targeted at addressing gaps in public understanding on climate issues within the local communities.',\n",
       "  'Time Horizon': \"* Mid term\\n* The text proposes the use of a Climate and Energy Related Norms and Attitudes (CERNA) survey to assess knowledge, attitudes, and behaviors related to climate and energy issues. The survey aims to identify gaps in public understanding and misconceptions that can be addressed through targeted interventions. The focus is on promoting energy-saving behaviors and raising awareness of efficient ways to save energy in everyday life. The survey also aims to assess climate change literacy, including understanding of the causes, impacts, and possible solutions. Additionally, the survey seeks to address pluralistic ignorance, which is a shared misconception about others' knowledge and attitudes on environmental issues. The goal is to use social norms interventions and peer influence to promote pro-environmental attitudes and behaviors. Overall, the proposed survey and interventions aim to facilitate behavior change and policy-making based on a precise diagnosis of the problem, ensuring the success and long-term impact of interventions.\"},\n",
       " 'Innovative Process': {'Level of Analysis': '* Micro\\n* The text proposes the use of a Climate and Energy Related Norms and Attitudes (CERNA) survey in six PROBONO Living Labs to assess the knowledge, attitudes, and behaviors related to energy literacy and climate change literacy. The survey aims to identify misconceptions and gaps in understanding in order to design targeted interventions and communication strategies to promote sustainable behaviors. Additionally, the text discusses the concept of pluralistic ignorance and the importance of understanding social norms in order to effectively address behavior change and policy making. Overall, the text emphasizes the need for a precise diagnosis of the problem to ensure successful interventions and maximize the potential of future policies.',\n",
       "  'Spatial scope': '* National\\nThe text describes a proposed social and behavioral research and innovation approach to support people in making more sustainable, climate-friendly, and energy-efficient choices. The text emphasizes the importance of understanding human cognition and addressing cognitive biases when it comes to changing energy and environment-related behavior. The proposed approach includes administering a Climate and Energy Related Norms and Attitudes (CERNA) survey in six PROBONO Living Labs, focusing on energy literacy assessment, climate change literacy assessment, and the assessment of pluralistic ignorance. The aim is to gather data on knowledge, attitudes, and behaviors related to energy and climate issues in order to inform interventions and policies that promote behavior change and promote pro-environmental social norms.',\n",
       "  'Time Horizon': '* Long term\\n* This text describes the proposed use of a Climate and Energy Related Norms and Attitudes (CERNA) survey to assess knowledge, attitudes, and behaviors related to energy literacy and climate change literacy. By addressing cognitive biases and misconceptions, the survey aims to inform interventions and communication strategies that can promote more sustainable behaviors and attitudes towards climate and energy issues. The survey results can guide the development of targeted interventions, such as nudging stickers on household appliances or policy recommendations on product labeling, to encourage energy-saving actions. Additionally, the assessment of pluralistic ignorance seeks to understand the discrepancies between perceived norms and actual support for climate policies, in order to overcome barriers to action and foster a transition to a greener future. Overall, this innovative process takes a comprehensive and long-term approach to understanding and influencing individual and collective behaviors in relation to climate and energy issues.'}}"
      ]
     },
     "execution_count": 21,
     "metadata": {},
     "output_type": "execute_result"
    }
   ],
   "source": [
    "CERNA_review"
   ]
  },
  {
   "cell_type": "code",
   "execution_count": 35,
   "metadata": {},
   "outputs": [
    {
     "name": "stdout",
     "output_type": "stream",
     "text": [
      "Processing with gpt-3.5-turbo-16k-0613 :\t 06/06/2024, 13:51:55 --> 06/06/2024, 13:52:00\n",
      "Processing with gpt-3.5-turbo-16k-0613 :\t 06/06/2024, 13:52:00 --> 06/06/2024, 13:52:02\n",
      "Processing with gpt-3.5-turbo-16k-0613 :\t 06/06/2024, 13:52:02 --> 06/06/2024, 13:52:06\n",
      "Processing with gpt-3.5-turbo-16k-0613 :\t 06/06/2024, 13:52:06 --> 06/06/2024, 13:52:21\n",
      "Processing with gpt-3.5-turbo-16k-0613 :\t 06/06/2024, 13:52:21 --> 06/06/2024, 13:52:26\n",
      "Processing with gpt-3.5-turbo-16k-0613 :\t 06/06/2024, 13:52:26 --> 06/06/2024, 13:52:35\n"
     ]
    },
    {
     "data": {
      "text/plain": [
       "{'Social': {'Level of Analysis': '* Macro\\nThe text proposes the use of a Climate and Energy Related Norms and Attitudes survey to assess the knowledge, attitudes, and behaviors related to energy and climate change in the PROBONO Living Labs. The survey aims to address cognitive biases and misconceptions, such as the false consensus effect and the availability heuristic, that may influence energy and environment-related behaviors. The results of the survey will inform the design of interventions, such as targeted communications and policy recommendations, to promote more sustainable behaviors and engage the public in climate action.',\n",
       "  'Spatial scope': '* Regional\\n* The text proposes the use of a survey, called the Climate and Energy Related Norms and Attitudes (CERNA) survey, to assess the knowledge, attitudes, and behaviors related to energy literacy and climate change literacy. The survey will be administered in all six PROBONO Living Labs, with a focus on understanding the gaps in public understanding on climate issues and identifying misconceptions that can be addressed through targeted interventions. The goal is to promote more sustainable behaviors and engage the public in dialogue to inform future policies and maximize their potential.',\n",
       "  'Time Horizon': '* Mid term\\n* The proposed social and behavioral research and innovation approaches aim to address cognitive biases and misconceptions in order to change energy and environment-related behavior. The Climate and Energy Related Norms and Attitudes survey will assess energy literacy, climate change literacy, and pluralistic ignorance to inform interventions and policies that promote more sustainable behaviors. The focus is on increasing awareness and understanding of energy-saving actions and the anthropogenic causes, impacts, and solutions of climate change. Targeted communications and peer influence interventions may be used to encourage pro-environmental attitudes and behavior change.',\n",
       "  'exec_summary': '* Social:\\n\\n1. The proposed survey, the Climate and Energy Related Norms and Attitudes (CERNA) survey, aims to assess knowledge, attitudes, and behaviors related to energy and climate change in the PROBONO Living Labs. This survey will help identify cognitive biases and misconceptions that may influence energy and environment-related behaviors.\\n\\n2. The results of the survey will be used to design interventions, such as targeted communications and policy recommendations, to promote more sustainable behaviors and engage the public in climate action. This approach will help address the gaps in public understanding on climate issues and maximize the potential for behavior change.\\n\\n3. The social dimension of the proposed research focuses on increasing awareness and understanding of energy-saving actions and the anthropogenic causes, impacts, and solutions of climate change. Through targeted communications and peer influence interventions, pro-environmental attitudes and behavior change will be encouraged.\\n\\n4. By addressing false consensus effects and availability heuristics, the research approach acknowledges the cognitive biases that may hinder sustainable behavior. This will help create a more informed and engaged public, enabling them to make more sustainable choices and contribute to climate action.\\n\\n5. The proposed research takes into account the spatial scope of all six PROBONO Living Labs, ensuring a comprehensive understanding of energy and climate-related knowledge, attitudes, and behaviors. This approach allows for the identification of regional differences and the development of tailor-made interventions for each lab.'},\n",
       " 'Environmental': {'Level of Analysis': '* Meso\\n* The text proposes a Climate and Energy Related Norms and Attitudes (CERNA) survey as a social and behavioral research and innovation approach to address cognitive biases and misconceptions related to energy and environment-related behavior. The survey aims to assess energy literacy, climate change literacy, and pluralistic ignorance in order to inform interventions and communication strategies targeted at improving public understanding and promoting sustainable behaviors. The focus is on raising awareness, addressing misconceptions, and leveraging social norms to drive behavior change and policy-making in the context of the PROBONO Living Labs.',\n",
       "  'Spatial scope': '* Local\\nPromoting sustainable, climate-friendly, and energy-efficient behaviors requires addressing cognitive biases and heuristics that influence decision-making. To assess the norms and attitudes related to climate and energy, the proposed Climate and Energy Related Norms and Attitudes (CERNA) survey will be administered in the PROBONO Living Labs. The survey will focus on energy literacy, climate change literacy, and pluralistic ignorance to identify misconceptions, gaps in knowledge, and social norms that can be targeted through interventions like nudging stickers, policy recommendations, and providing energy toolkits. The aim is to promote behavior change and create a more sustainable community in the local living labs.',\n",
       "  'Time Horizon': \"* Mid term\\n* The text proposes the use of a Climate and Energy Related Norms and Attitudes (CERNA) survey to assess people's knowledge, attitudes, and behaviors related to energy and climate change. The survey aims to identify misconceptions and gaps in understanding in order to inform targeted interventions and communication strategies. The focus is on promoting energy-saving behaviors and addressing cognitive biases that may hinder behavior change. The proposed survey approach can contribute to the development of a Green Building Neighbourhood by promoting pro-environmental social norms and maximizing the effectiveness of interventions.\",\n",
       "  'exec_summary': \"* Environmental\\n  - The proposed Climate and Energy Related Norms and Attitudes (CERNA) survey is a valuable tool for assessing energy and climate change literacy, as well as identifying misconceptions and cognitive biases that affect behavior.\\n  - The survey will be conducted in the PROBONO Living Labs, allowing for a focused, localized approach to promoting sustainable behaviors and driving policy change.\\n  - By addressing knowledge gaps and leveraging social norms, the CERNA survey aims to contribute to the development of a more sustainable community in the living labs.\\n  - The survey's focus on energy-saving behaviors and its potential for targeted interventions make it a valuable component in the creation of a Green Building Neighbourhood.\\n  - The proposed survey approach has the potential to maximize the effectiveness of interventions and communication strategies by informing them with data-driven insights.\"},\n",
       " 'Economic': {'Level of Analysis': '* Macro\\nThe text proposes the use of a Climate and Energy Related Norms and Attitudes (CERNA) survey to assess the knowledge, attitudes, and behaviors related to energy and climate change. The survey aims to understand the cognitive biases that affect decision-making in these areas and address them through targeted interventions. The survey will inform the design of practical interventions, such as nudging stickers on household appliances or providing households with energy toolkits, to promote more sustainable behaviors. Additionally, the survey will assess climate change literacy and pluralistic ignorance, which can impact public attitudes and support for climate policies. Overall, this approach seeks to diagnose the factors that influence behavior and inform effective interventions and policies.',\n",
       "  'Spatial scope': \"* National\\n* The text contains a proposed social and behavioral research approach called Climate and Energy Related Norms and Attitudes (CERNA) survey. This survey aims to assess people's awareness, knowledge, attitudes, and behaviors related to energy efficiency and climate change. The survey will be administered in PROBONO Living Labs, and the data gathered will inform the design of interventions and policies targeted at addressing gaps in public understanding and promoting sustainable behaviors.\",\n",
       "  'Time Horizon': '* Short term\\n* The text proposes administering a Climate and Energy Related Norms and Attitudes (CERNA) survey in the PROBONO Living Labs to assess people\\'s knowledge, attitudes, and behaviors related to energy and climate change. The survey aims to identify misconceptions and gaps in understanding in order to design targeted interventions, such as nudging stickers on household appliances or providing households with \"energy toolkits.\" By addressing cognitive biases and pluralistic ignorance, the proposed approach aims to facilitate behavior change and promote pro-environmental social norms.',\n",
       "  'exec_summary': \"Economic Dimension:\\n\\n- The proposed approach using the Climate and Energy Related Norms and Attitudes (CERNA) survey is focused on understanding the cognitive biases that influence decision-making in relation to energy and climate change. This will allow for the design of targeted interventions to promote more sustainable behaviors.\\n- The survey will assess climate change literacy and pluralistic ignorance, which are important factors that impact public attitudes and support for climate policies. This will help in identifying and understanding the barriers to behavior change.\\n- The proposed approach aims to diagnose the factors that influence behavior and inform effective interventions and policies. By addressing misconceptions and gaps in understanding, it seeks to promote pro-environmental social norms.\\n- The spatial scope of the approach is focused on administering the CERNA survey in PROBONO Living Labs to gather data on people's awareness, knowledge, attitudes, and behaviors related to energy efficiency and climate change.\\n- The proposed approach has a perspective that considers the long-term by aiming to design interventions and policies that promote sustainable behaviors. It seeks to address cognitive biases and pluralistic ignorance to facilitate behavior change.\"},\n",
       " 'Political': {'Level of Analysis': '* Macro\\nThe text discusses the need for understanding and addressing cognitive biases and misconceptions in order to change energy and environment-related behavior. It proposes the use of a Climate and Energy Related Norms and Attitudes (CERNA) survey to gather data on energy literacy, climate change literacy, and pluralistic ignorance. The survey aims to inform the design of interventions and communication strategies targeted at the identified gaps in public understanding and awareness of climate issues. The focus is on engaging the public and ensuring that interventions are effective and avoid polarization.',\n",
       "  'Spatial scope': \"* Local\\nThe text proposes the administration of a Climate and Energy Related Norms and Attitudes (CERNA) survey in PROBONO Living Labs at a local level to assess people's knowledge, attitudes, and behaviors related to energy and climate change. The survey aims to understand the gaps in public understanding and identify misconceptions that can be addressed through tailored interventions such as targeted communications, nudging stickers, policy recommendations, and providing households with energy toolkits. The focus is on engaging the community and ensuring that interventions are effective and well-received.\",\n",
       "  'Time Horizon': \"* Mid term\\n* The text describes the proposed use of a Climate and Energy Related Norms and Attitudes (CERNA) survey in order to gather data on public knowledge, attitudes, and behaviors related to energy and climate change. The survey aims to address cognitive biases and misconceptions that may hinder behavior change towards more sustainable practices. The data collected will inform the design of interventions and communications targeted at the identified gaps in public understanding. The text emphasizes the importance of public engagement and listening to the community's knowledge and interests before implementing top-down interventions.\",\n",
       "  'exec_summary': \"* Social\\n  * Level of Analysis : The text discusses the need for understanding public knowledge, attitudes, and behaviors related to energy and climate change in order to design effective interventions. It proposes the use of a Climate and Energy Related Norms and Attitudes (CERNA) survey to gather data on energy literacy, climate change literacy, and pluralistic ignorance. The survey aims to identify misconceptions and gaps in public understanding that can be addressed through tailored interventions such as targeted communications, policy recommendations, and providing households with energy toolkits. The focus is on engaging the community and ensuring that interventions are well-received.\\n  * Spatial scope : The text proposes the administration of a Climate and Energy Related Norms and Attitudes (CERNA) survey in PROBONO Living Labs at a local level to assess people's knowledge, attitudes, and behaviors related to energy and climate change. The survey aims to understand the gaps in public understanding and identify misconceptions that can be addressed through tailored interventions. These interventions may include targeted communications and policy recommendations that promote behavior change towards more sustainable practices. The focus is on engaging the community and fostering social cohesion to achieve sustainable outcomes.\\n  * Time Horizon : The text describes the proposed use of a Climate and Energy Related Norms and Attitudes (CERNA) survey in order to gather data on public knowledge, attitudes, and behaviors related to energy and climate change. The survey aims to address misconceptions and gaps in public understanding that may hinder behavior change towards more sustainable practices. The data collected will inform the design of interventions and communications targeted at the identified gaps in public understanding. The text emphasizes the importance of building social cohesion and engaging the community in the process of implementing interventions. \\n\\n* Economic\\n  * Level of Analysis : The text discusses the need for understanding public knowledge, attitudes, and behaviors related to energy and climate change in order to design effective interventions. It proposes the use of a Climate and Energy Related Norms and Attitudes (CERNA) survey to gather data on energy literacy, climate change literacy, and pluralistic ignorance. The survey aims to identify misconceptions and gaps in public understanding that can be addressed through tailored interventions. These interventions may include nudging stickers, policy recommendations, and providing households with energy toolkits. The focus is on maximizing economic efficiency and promoting behavior change towards more sustainable practices.\\n  * Spatial scope : The text proposes the administration of a Climate and Energy Related Norms and Attitudes (CERNA) survey in PROBONO Living Labs at a local level to assess people's knowledge, attitudes, and behaviors related to energy and climate change. The survey aims to identify misconceptions and gaps in public understanding that can be addressed through tailored interventions. These interventions may include nudging stickers that promote energy conservation, policy recommendations that incentivize sustainable practices, and providing households with energy toolkits to improve energy efficiency. The focus is on maximizing the economic benefits of sustainable behavior change.\\n  * Time Horizon : The text describes the proposed use of a Climate and Energy Related Norms and Attitudes (CERNA) survey in order to gather data on public knowledge, attitudes, and behaviors related to energy and climate change. The survey aims to address misconceptions and gaps in public understanding that may hinder behavior change towards more sustainable practices. The data collected will inform the design of interventions and communications targeted at the identified gaps in public understanding. The text emphasizes the importance of economic efficiency and maximizing the economic benefits of sustainable behavior change. \\n\\n* Environmental\\n  * Level of Analysis : The text discusses the need for understanding public knowledge, attitudes, and behaviors related to energy and climate change in order to design effective interventions. It proposes the use of a Climate and Energy Related Norms and Attitudes (CERNA) survey to gather data on energy literacy, climate change literacy, and pluralistic ignorance. The survey aims to identify misconceptions and gaps in public understanding that can be addressed through tailored interventions. The focus is on promoting behavior change towards more sustainable practices to mitigate environmental impact and address climate change.\\n  * Spatial scope : The text proposes the administration of a Climate and Energy Related Norms and Attitudes (CERNA) survey in PROBONO Living Labs at a local level to assess people's knowledge, attitudes, and behaviors related to energy and climate change. The survey aims to understand the gaps in public understanding and identify misconceptions that can be addressed through tailored interventions. These interventions may include targeted communications, policy recommendations, and providing households with energy toolkits to promote behavior change towards more sustainable practices. The focus is on mitigating environmental impact and fostering sustainable development within the local context.\\n  * Time Horizon : The text describes the proposed use of a Climate and Energy Related Norms and Attitudes (CERNA) survey in order to gather data on public knowledge, attitudes, and behaviors related to energy and climate change. The survey aims to address misconceptions and gaps in public understanding that may hinder behavior change towards more sustainable practices. The data collected will inform the design of interventions and communications targeted at the identified gaps in public understanding. The text emphasizes the importance of addressing climate change and mitigating environmental impact through behavior change and sustainable practices.\"},\n",
       " 'Educational': {'Level of Analysis': \"* Micro\\nThe text contains a proposal for a Climate and Energy Related Norms and Attitudes (CERNA) survey to be administered in six PROBONO Living Labs. The survey aims to assess people's energy literacy, climate change literacy, and pluralistic ignorance related to energy and environmental behaviors. The survey results will inform the design of interventions and communication strategies to promote sustainable behaviors in the targeted communities.\",\n",
       "  'Spatial scope': '* Local\\n* The social innovation proposes to administer a survey called Climate and Energy Related Norms and Attitudes (CERNA) in all six PROBONO Living Labs, focusing on energy and climate literacy, as well as pluralistic ignorance. The survey aims to assess the knowledge, attitudes, and behaviors of individuals regarding energy efficiency and climate change. The findings from the survey will inform the design of interventions targeted at addressing gaps in public understanding on climate issues within the local communities.',\n",
       "  'Time Horizon': \"* Mid term\\n* The text proposes the use of a Climate and Energy Related Norms and Attitudes (CERNA) survey to assess knowledge, attitudes, and behaviors related to climate and energy issues. The survey aims to identify gaps in public understanding and misconceptions that can be addressed through targeted interventions. The focus is on promoting energy-saving behaviors and raising awareness of efficient ways to save energy in everyday life. The survey also aims to assess climate change literacy, including understanding of the causes, impacts, and possible solutions. Additionally, the survey seeks to address pluralistic ignorance, which is a shared misconception about others' knowledge and attitudes on environmental issues. The goal is to use social norms interventions and peer influence to promote pro-environmental attitudes and behaviors. Overall, the proposed survey and interventions aim to facilitate behavior change and policy-making based on a precise diagnosis of the problem, ensuring the success and long-term impact of interventions.\",\n",
       "  'exec_summary': '* Educational\\n  * Level of Analysis : The description clearly outlines the purpose and goals of the proposed CERNA survey, which is to assess people\\'s energy literacy, climate change literacy, and pluralistic ignorance related to energy and environmental behaviors. The use of the term \"norms and attitudes\" implies a focus on understanding beliefs and perceptions. The survey results will inform the design of interventions and communication strategies to promote sustainable behaviors in targeted communities. This dimension is well-explained and can be reviewed for any necessary adjustments or additions.\\n  * Spatial scope : The executive summary provides a comprehensive overview of the spatial scope of the proposed survey, which includes all six PROBONO Living Labs. The focus is on energy and climate literacy, as well as pluralistic ignorance. The description highlights the aim of assessing knowledge, attitudes, and behaviors regarding energy efficiency and climate change. The findings will inform interventions targeted at addressing gaps in public understanding on climate issues within the local communities. This dimension is well-defined and can be reviewed for the inclusion of specific locations or regions if necessary.\\n  * Time Horizon : The proposed use of the CERNA survey is clearly explained in terms of assessing knowledge, attitudes, and behaviors related to climate and energy issues. The overarching goal is to identify gaps in public understanding and misconceptions that can be addressed through interventions. The focus is on promoting energy-saving behaviors and raising awareness of efficient ways to save energy in everyday life. The survey also aims to assess climate change literacy and address pluralistic ignorance, using social norms interventions and peer influence to promote pro-environmental attitudes and behaviors. This dimension is adequately covered and can be reviewed for any additional details or adjustments.\\n  Overall, the proposed survey and interventions aim to facilitate behavior change and policy-making based on a precise diagnosis of the problem, ensuring the success and long-term impact of interventions. The executive summary provides a clear evaluation of this dimension, but may benefit from specific details or metrics related to behavior change and policy impact when reviewed and edited if necessary.'},\n",
       " 'Innovative Process': {'Level of Analysis': '* Micro\\n* The text proposes the use of a Climate and Energy Related Norms and Attitudes (CERNA) survey in six PROBONO Living Labs to assess the knowledge, attitudes, and behaviors related to energy literacy and climate change literacy. The survey aims to identify misconceptions and gaps in understanding in order to design targeted interventions and communication strategies to promote sustainable behaviors. Additionally, the text discusses the concept of pluralistic ignorance and the importance of understanding social norms in order to effectively address behavior change and policy making. Overall, the text emphasizes the need for a precise diagnosis of the problem to ensure successful interventions and maximize the potential of future policies.',\n",
       "  'Spatial scope': '* National\\nThe text describes a proposed social and behavioral research and innovation approach to support people in making more sustainable, climate-friendly, and energy-efficient choices. The text emphasizes the importance of understanding human cognition and addressing cognitive biases when it comes to changing energy and environment-related behavior. The proposed approach includes administering a Climate and Energy Related Norms and Attitudes (CERNA) survey in six PROBONO Living Labs, focusing on energy literacy assessment, climate change literacy assessment, and the assessment of pluralistic ignorance. The aim is to gather data on knowledge, attitudes, and behaviors related to energy and climate issues in order to inform interventions and policies that promote behavior change and promote pro-environmental social norms.',\n",
       "  'Time Horizon': '* Long term\\n* This text describes the proposed use of a Climate and Energy Related Norms and Attitudes (CERNA) survey to assess knowledge, attitudes, and behaviors related to energy literacy and climate change literacy. By addressing cognitive biases and misconceptions, the survey aims to inform interventions and communication strategies that can promote more sustainable behaviors and attitudes towards climate and energy issues. The survey results can guide the development of targeted interventions, such as nudging stickers on household appliances or policy recommendations on product labeling, to encourage energy-saving actions. Additionally, the assessment of pluralistic ignorance seeks to understand the discrepancies between perceived norms and actual support for climate policies, in order to overcome barriers to action and foster a transition to a greener future. Overall, this innovative process takes a comprehensive and long-term approach to understanding and influencing individual and collective behaviors in relation to climate and energy issues.',\n",
       "  'exec_summary': '* Stakeholder Engagement\\n  * Level of Analysis : The text highlights the importance of stakeholder engagement in the proposed innovative process. It emphasizes the need for collaboration and participation from diverse stakeholders, such as policymakers, researchers, businesses, and the general public, in order to effectively address behavior change and policy making related to climate and energy issues. The text acknowledges that stakeholder engagement can contribute to identifying gaps in understanding and misconceptions, as well as to designing targeted interventions and communication strategies that have a higher likelihood of success.\\n  * Spatial scope : The proposed process emphasizes the need for stakeholder engagement at various levels, including local communities, regional contexts, and national or global scales. The text suggests that stakeholder engagement should occur in the six PROBONO Living Labs, where the CERNA survey will be administered, and also in the development and implementation of interventions and policies. By engaging stakeholders at different levels, the process can ensure the relevance and effectiveness of interventions and policies that promote sustainable behaviors and pro-environmental social norms.\\n  * Time Horizon : The text does not explicitly mention the time horizon for stakeholder engagement. However, it suggests that stakeholder engagement should be an ongoing process throughout the innovative process. By continuously involving stakeholders, the process can adapt to evolving knowledge, attitudes, and behaviors related to climate and energy issues, and can ensure that interventions and policies remain relevant and effective in the long term. Overall, stakeholder engagement is presented as a critical component of the proposed innovative process that should be integrated throughout its implementation.\\n  \\n* Data Collection and Analysis\\n  * Level of Analysis : The text proposes the use of a Climate and Energy Related Norms and Attitudes (CERNA) survey to collect data on knowledge, attitudes, and behaviors related to energy and climate issues. The text emphasizes the importance of precise data collection and analysis to inform interventions and policies that promote behavior change and pro-environmental social norms. The survey aims to identify misconceptions, cognitive biases, and gaps in understanding in order to design targeted interventions and communication strategies. Additionally, the text mentions the use of statistical analysis and data visualization to analyze and present the survey results.\\n  * Spatial scope : The proposed data collection and analysis will be conducted in six PROBONO Living Labs, as part of the assessment of energy literacy, climate change literacy, and pluralistic ignorance. These Living Labs represent specific local and regional contexts, allowing for context-specific insights into knowledge, attitudes, and behaviors related to energy and climate issues. The spatial scope of the data collection and analysis allows for a deeper understanding of the specific challenges and opportunities that exist in different locations, informing local interventions and policies that can promote behavior change and pro-environmental social norms.\\n  * Time Horizon : The text does not explicitly mention the time horizon for data collection and analysis. However, it suggests that the survey results will inform interventions and policies that promote sustainable behaviors and attitudes towards climate and energy issues. Therefore, the data collected through the survey is likely to have a long-term impact, guiding the development of interventions and policies that can foster a transition to a greener future. Overall, the proposed data collection and analysis take into account the need for precise and ongoing assessment in order to ensure the effectiveness and relevance of interventions and policies.'},\n",
       " 'exec': {}}"
      ]
     },
     "execution_count": 35,
     "metadata": {},
     "output_type": "execute_result"
    }
   ],
   "source": [
    "intern.augmentReview(CERNA_review)"
   ]
  },
  {
   "cell_type": "code",
   "execution_count": 7,
   "metadata": {},
   "outputs": [
    {
     "name": "stdout",
     "output_type": "stream",
     "text": [
      "Social Level of Analysis A 0\n",
      "Social Spatial scope A 1\n",
      "Social Time Horizon A 2\n",
      "Environmental Level of Analysis B 0\n",
      "Environmental Spatial scope B 1\n",
      "Environmental Time Horizon B 2\n",
      "Economic Level of Analysis C 0\n",
      "Economic Spatial scope C 1\n",
      "Economic Time Horizon C 2\n",
      "Political Level of Analysis D 0\n",
      "Political Spatial scope D 1\n",
      "Political Time Horizon D 2\n",
      "Educational Level of Analysis E 0\n",
      "Educational Spatial scope E 1\n",
      "Educational Time Horizon E 2\n",
      "Innovative process Level of Analysis F 0\n",
      "Innovative process Spatial scope F 1\n",
      "Innovative process Time Horizon F 2\n"
     ]
    }
   ],
   "source": [
    "book = intern.getWorkbook(CERNA_review,CERNA)"
   ]
  },
  {
   "cell_type": "code",
   "execution_count": 10,
   "metadata": {},
   "outputs": [
    {
     "data": {
      "text/plain": [
       "['What is the main objective of the social or behavioural innovation?',\n",
       " 'What are the inputs (such as tools used, human resources, financial resources, material resources, training) to the social or behavioural innovation?',\n",
       " 'What are the outputs (such as products, development plans, recommendations, studies, reports, information campaigns, legislation drafted) of the social or behavioural innovation?',\n",
       " 'What are the outcomes (such as change in knowledge/behaviour/awareness, improved practices, increased service, improved legislation passed) of the social or behavioural innovation?',\n",
       " 'What is the expected impact, if any, of the social or behavioural innovation on the social dimension?',\n",
       " 'What is the expected impact, if any, of the social or behavioural innovation on the environmental dimension?',\n",
       " 'What is the expected impact, if any, of the social or behavioural innovation on the economic dimension?',\n",
       " 'What is the expected impact, if any, of the social or behavioural innovation on the political dimension?',\n",
       " 'What is the expected impact, if any, of the social or behavioural innovation on the educational dimension?',\n",
       " 'What is the expected impact, if any, of the social or behavioural innovation on the innovative process?',\n",
       " 'What is the time horizon for the expected impact: Short-term, mid-term or long-term?',\n",
       " 'What is the spatial scope of the outcome on the different indicator dimensions: Local, regional, national or international? Luc: Is it okay like this or should I separate into 4 questions, one for each spatial scope?.',\n",
       " 'What are the key lessons learned?',\n",
       " 'In what cases would it be of value to replicate this social or behavioural innovation?',\n",
       " 'The answers must not contain any personal information. Does it?']"
      ]
     },
     "execution_count": 10,
     "metadata": {},
     "output_type": "execute_result"
    }
   ],
   "source": [
    "with open(\"questions.txt\", \"r\") as f:\n",
    "    t = [x.strip() for x in f.read().split(\"\\n\") if len(x.strip())]\n",
    "t"
   ]
  }
 ],
 "metadata": {
  "kernelspec": {
   "display_name": ".venv",
   "language": "python",
   "name": "python3"
  },
  "language_info": {
   "codemirror_mode": {
    "name": "ipython",
    "version": 3
   },
   "file_extension": ".py",
   "mimetype": "text/x-python",
   "name": "python",
   "nbconvert_exporter": "python",
   "pygments_lexer": "ipython3",
   "version": "3.11.3"
  }
 },
 "nbformat": 4,
 "nbformat_minor": 2
}
