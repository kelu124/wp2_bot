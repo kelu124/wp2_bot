{
 "cells": [
  {
   "cell_type": "code",
   "execution_count": 3,
   "metadata": {},
   "outputs": [],
   "source": [
    "%load_ext autoreload\n",
    "%autoreload 2"
   ]
  },
  {
   "cell_type": "code",
   "execution_count": 13,
   "metadata": {},
   "outputs": [],
   "source": [
    "import OAI\n",
    "import intern\n",
    "import pandas as pd"
   ]
  },
  {
   "cell_type": "code",
   "execution_count": 5,
   "metadata": {},
   "outputs": [],
   "source": [
    "h = OAI.Helper(\"wp2_assistant\")\n",
    "# h.ask(CONTEXT,Q,v=\"gpt-3.5-turbo-16k-0613\",ow=False,src=\"none\",seed=\"\")"
   ]
  },
  {
   "cell_type": "code",
   "execution_count": 6,
   "metadata": {},
   "outputs": [],
   "source": [
    "CERNA = \"\"\"## Climate and Energy Related Norms and Attitudes assessment\n",
    " \n",
    "When it comes to supporting people in adapting their behaviour and making more sustainable, climate-friendly and energy efficient choices, providing information alone is rarely sufficient (Cadario & Chandon, 2020). Humans' perception is not solely influenced by information, but it is generally agreed upon that a myriad of heuristics effect our decisions unnoticed, every day. These are strategies that use only a small fraction of the available information. This makes our decision very rapid, which is incredibly useful in evolutionary terms, to survive approaching danger, for instance. Fortunately, most of the time the result of using automatic heuristic thinking is “good enough”, however in certain situations they lead to poor judgments. We might think of these as “errors in judgement” while in psychological literature they are commonly known as cognitive biases (Ellis, 2018).\n",
    "Certain cognitive biases, e.g., the false consensus effect (our tendency to overestimate how many people agree with our own beliefs), the misinformation effect (our memory of events is heavily influenced by how that event is represented, for example in media), the availability heuristic (our tendency of estimating the probability of something based on the examples that we are aware of), or the optimism bias (underestimating the probability of bad things happening to us but overestimating the good) are all factors we need to consider and address when we would like to change energy and environment related behaviour. (Zhang et al., 2020) With the below proposed social and behavioural research and innovation approaches we aim to make sure that all aspects of human cognition are taken into consideration before a top-down intervention would be forced on the public – which might be ineffective or even polarizing.\n",
    "Awareness, however, is undoubtedly the first step to the adaptation of more sustainable behaviours. (Park et al., 2023). Public engagement is a two-way dialogue. Before intervening, we need to listen; assess knowledge and attitudes, understand interests and barriers to action through social scientific research. This will inform us about our starting point and allow us to plan meaningful interventions, targeted at the identified gaps in public understanding on climate issues.\n",
    "For these purposes we propose to administer a Climate and Energy Related Norms and Attitudes (CERNA) survey in all six PROBONO Living Labs. In the absence of a comprehensive and suitable tool, the survey will be created by Smart Innovation Norway, inspired by available literature on Energy literacy assessment, Climate Change literacy assessment, and assessment on Pluralistic Ignorance related to climate issues.\n",
    "Energy literacy assessment\n",
    " \n",
    "Energy literacy is defined as the indicator of basic energy-related knowledge, the understanding of the environmental impacts of energy production and consumption, how energy is used and the adoption of energy-saving behaviours. This definition works with three dimensions: knowledge, attitudes, and behaviours (DeWaters & Powers, 2011).\n",
    "The knowledge component refers to the understanding of basic scientific concepts, rules, theories, and the role and usage of energy in our everyday lives. The attitude refers to the ideologies and convictions of each person, based on their energy knowledge, influencing their decision-making processes. The behavioural component evaluates awareness of the impact of day-to-day actions, and each individual’s responsibility and the commitment to save energy (Martins, Madaleno & Dias, 2020). It is important to note however that self-reported behaviours have proven to be unreliable in several examples (Hansen, Larsen & Gundersen, 2021; Kormos & Gifford, 2014), hence our approach is to utilize behavioural insights, where behaviour change will be monitored instead of inquired about.\n",
    "In the interest of being able to design practical interventions for the Living Labs based on the data gathered here, our survey will work with all these three components, but will focus less on the scientific and theoretical knowledge, and more on the awareness of the efficient ways to save energy in terms of day-to-day practices of everyday life. Existing research suggests that people tend to overweigh the value of easier, more salient actions, e.g., turning off the lights, compared to other energy saving actions that in reality are significantly more effective, like reducing temperature and length of showers (Park et al., 2023). With this survey, we aim to find out, whether there are such misconceptions to address in the PROBONO Living Labs. This would open the door to a wide range of interventions, that, although of minimal effort, can bring significant improvements in energy behaviour. It could inform not only the content but also the timing and adequate context of the communication. Examples of targeted communications depending on our findings could be nudging stickers on household appliances, policy recommendations on different labelling of certain products, providing households with “energy toolkits” containing helpful information and tools, etc.\n",
    "Climate change literacy assessment\n",
    " \n",
    "Climate change is a complex issue which requires understanding the basic principles of multidisciplinary scientific principles of physics, chemistry, geography, biology and mathematics (Anyanwu, Le Grange & Beets, 2015). For this reason, it is an unobtrusive, diffused, non-localised issue for many. Even for individuals who personally experience the effects of climate change, it is often unclear, whether they can be attributed to climate change or not, not to mention that many are unaware of the scientific consensus on anthropogenic climate change (Geiger, Gruszczynski & Swim, 2022).\n",
    "Similarly to energy literacy assessment, the available tools on climate change literacy assessment focus on scientific understanding of the phenomena. We instead propose to measure the awareness of the anthropogenic causes, the impacts, and possible solutions. We will measure the attitudes, concerns, or potential scepticism, to make sure that we can provide customized engagement suggestions to each Living Labs.\n",
    "Pluralistic ignorance assessment\n",
    " \n",
    "The aim of the Climate and Energy Related Norms and Attitudes survey is to assess not only factual knowledge, but assumptions as well on other peoples’ knowledge and attitudes. Social cognition research suggests that human behaviour is dependent on our subjective representation of reality, which is influenced by our perception and interpretation of surrounding. Our decisions and actions are largely influenced by what we perceive is the “social norm”, especially if that is perceived as the norm of a group we strongly identify with (national, political, generational, etc.) (Farrow, Grolleau & Ibanez, 2017). When it comes to environmental issues, the underestimation of interest and awareness of our peers can be a huge barrier to action.\n",
    "The literature calls this phenomenon pluralistic ignorance, which is a shared misconception on how others think or act (Park et al., 2023). According to a recent study, people vastly underestimate the public support for climate policies, and climate concern. While two thirds of the participants supported the policies, they estimated the supporters to be only one third of the population. Even though supporters of the climate action outnumber opponents two-to-one, these results have concerning implications. First, the underestimation of public willingness to discuss climate issues obstruct actions and behaviour change - in democratic models of governance, politicians are unlikely to propose climate actions without public support (Walker, Kurz & Russel, 2018). Second, overestimation of opposition to climate policies pressures us to oppose them as well, diminishing motivations towards the green transition. The absence of knowledge on the consensus around environmental issues gives way to polarization, which means these misperceptions will bring a self-fulfilling prophecy: not realizing the true level of support of climate action may in fact lead to decreased support in the future (Sparkman, Geiger & Weber, 2022).\n",
    "Social norm interventions have been shown to be effective in reducing energy consumption in field experiments. The use of social norms in information provision, (informing people about others’ behaviours and attitudes), and other types of peer influence interventions could be leveraged by policy makers to target pro-environmental attitudes (Farrow, Grolleau & Ibanez, 2017).\n",
    "As Hansen (2018) pointed out, when it comes to addressing behaviour changes and policy making, before intervening, a precise diagnosis of the problem will no doubt increase the success of said interventions. Merely treating symptoms may have short-term effects (with potential side effects) but also likely to lead to the regression to the status quo on the long run. With the above described three-component Climate and Energy Related Norms and Attitudes survey we propose a diagnostic approach to a wide range of factors that influence environment and energy related behaviour. Understanding this if the first step to ensure that the planned interventions will be beneficial and understood by the targeted communities, and future policies will maximise their potential.\n",
    "GBN Contribution\n",
    "An evidence-based approach to building behavioural changes and promoting pro-environmental social norms is a key aspect of building a Green Building Neighbourhood. The neighbourhood is to be developed with the people, for the people  - thus any meaningful change has to prioritise the community’s participation and willingness to adapt.\"\"\""
   ]
  },
  {
   "cell_type": "code",
   "execution_count": 7,
   "metadata": {},
   "outputs": [],
   "source": [
    "F, A = intern.flavors, list(intern.angles.keys())"
   ]
  },
  {
   "cell_type": "code",
   "execution_count": 8,
   "metadata": {},
   "outputs": [
    {
     "name": "stdout",
     "output_type": "stream",
     "text": [
      "Social Level of Analysis\n",
      "Social Spatial scope\n",
      "Social Time Horizon\n",
      "Environmental Level of Analysis\n",
      "Environmental Spatial scope\n",
      "Environmental Time Horizon\n",
      "Economic Level of Analysis\n",
      "Economic Spatial scope\n",
      "Economic Time Horizon\n",
      "Political Level of Analysis\n",
      "Political Spatial scope\n",
      "Political Time Horizon\n",
      "Educational Level of Analysis\n",
      "Educational Spatial scope\n",
      "Educational Time Horizon\n",
      "Innovative process Level of Analysis\n",
      "Innovative process Spatial scope\n",
      "Innovative process Time Horizon\n"
     ]
    }
   ],
   "source": [
    "CERNA_review = {}\n",
    "for f in F:\n",
    "    CERNA_review[f] = {}\n",
    "    for a in A:\n",
    "        print(f,a)\n",
    "        P = intern.createBackground(f, a)\n",
    "        assessment = h.ask(P,CERNA,v=\"gpt-3.5-turbo-16k-0613\",ow=False,src=\"none\",seed=\"\")\n",
    "        CERNA_review[f][a] = assessment"
   ]
  },
  {
   "cell_type": "code",
   "execution_count": 9,
   "metadata": {},
   "outputs": [
    {
     "name": "stdout",
     "output_type": "stream",
     "text": [
      "Social Level of Analysis A 0\n",
      "Social Spatial scope A 1\n",
      "Social Time Horizon A 2\n",
      "Environmental Level of Analysis B 0\n",
      "Environmental Spatial scope B 1\n",
      "Environmental Time Horizon B 2\n",
      "Economic Level of Analysis C 0\n",
      "Economic Spatial scope C 1\n",
      "Economic Time Horizon C 2\n",
      "Political Level of Analysis D 0\n",
      "Political Spatial scope D 1\n",
      "Political Time Horizon D 2\n",
      "Educational Level of Analysis E 0\n",
      "Educational Spatial scope E 1\n",
      "Educational Time Horizon E 2\n",
      "Innovative process Level of Analysis F 0\n",
      "Innovative process Spatial scope F 1\n",
      "Innovative process Time Horizon F 2\n"
     ]
    }
   ],
   "source": [
    "book = intern.getWorkbook(CERNA_review,CERNA)"
   ]
  },
  {
   "cell_type": "code",
   "execution_count": 15,
   "metadata": {},
   "outputs": [
    {
     "data": {
      "text/html": [
       "<div>\n",
       "<style scoped>\n",
       "    .dataframe tbody tr th:only-of-type {\n",
       "        vertical-align: middle;\n",
       "    }\n",
       "\n",
       "    .dataframe tbody tr th {\n",
       "        vertical-align: top;\n",
       "    }\n",
       "\n",
       "    .dataframe thead th {\n",
       "        text-align: right;\n",
       "    }\n",
       "</style>\n",
       "<table border=\"1\" class=\"dataframe\">\n",
       "  <thead>\n",
       "    <tr style=\"text-align: right;\">\n",
       "      <th></th>\n",
       "      <th>Social</th>\n",
       "      <th>Environmental</th>\n",
       "      <th>Economic</th>\n",
       "      <th>Political</th>\n",
       "      <th>Educational</th>\n",
       "      <th>Innovative process</th>\n",
       "    </tr>\n",
       "  </thead>\n",
       "  <tbody>\n",
       "    <tr>\n",
       "      <th>Level of Analysis</th>\n",
       "      <td>* Micro\\nThe text proposes a Climate and Energ...</td>\n",
       "      <td>* Macro\\n* The proposed social innovation aims...</td>\n",
       "      <td>* Meso\\n* The text proposes the use of a Clima...</td>\n",
       "      <td>* Micro\\nThe text provides a proposal for a su...</td>\n",
       "      <td>*Micro\\nThe text contains a proposal to admini...</td>\n",
       "      <td>* Micro\\nThe text discusses the importance of ...</td>\n",
       "    </tr>\n",
       "    <tr>\n",
       "      <th>Spatial scope</th>\n",
       "      <td>* National\\nThe text contains a proposed asses...</td>\n",
       "      <td>* National\\nThe text contains a proposal to ad...</td>\n",
       "      <td>* Local\\nThe text contains a proposal for a su...</td>\n",
       "      <td>* Local\\nThe text describes the proposed use o...</td>\n",
       "      <td>* Local\\nPromoting sustainable behavior and en...</td>\n",
       "      <td>* National\\n* The text proposes a Climate and ...</td>\n",
       "    </tr>\n",
       "    <tr>\n",
       "      <th>Time Horizon</th>\n",
       "      <td>* 5 years\\n* The assessment proposes a Climate...</td>\n",
       "      <td>* 1 year, 5 years\\n* The proposed social and b...</td>\n",
       "      <td>* 5 years\\n* The text proposes the use of a Cl...</td>\n",
       "      <td>* 1 year, Political Time Horizon *\\nThe social...</td>\n",
       "      <td>* \"Educational\", \"Time Horizon\", \"1 year\"\\n* T...</td>\n",
       "      <td>* \"Innovative process\", \"Time Horizon\", \"5 yea...</td>\n",
       "    </tr>\n",
       "  </tbody>\n",
       "</table>\n",
       "</div>"
      ],
      "text/plain": [
       "                                                              Social  \\\n",
       "Level of Analysis  * Micro\\nThe text proposes a Climate and Energ...   \n",
       "Spatial scope      * National\\nThe text contains a proposed asses...   \n",
       "Time Horizon       * 5 years\\n* The assessment proposes a Climate...   \n",
       "\n",
       "                                                       Environmental  \\\n",
       "Level of Analysis  * Macro\\n* The proposed social innovation aims...   \n",
       "Spatial scope      * National\\nThe text contains a proposal to ad...   \n",
       "Time Horizon       * 1 year, 5 years\\n* The proposed social and b...   \n",
       "\n",
       "                                                            Economic  \\\n",
       "Level of Analysis  * Meso\\n* The text proposes the use of a Clima...   \n",
       "Spatial scope      * Local\\nThe text contains a proposal for a su...   \n",
       "Time Horizon       * 5 years\\n* The text proposes the use of a Cl...   \n",
       "\n",
       "                                                           Political  \\\n",
       "Level of Analysis  * Micro\\nThe text provides a proposal for a su...   \n",
       "Spatial scope      * Local\\nThe text describes the proposed use o...   \n",
       "Time Horizon       * 1 year, Political Time Horizon *\\nThe social...   \n",
       "\n",
       "                                                         Educational  \\\n",
       "Level of Analysis  *Micro\\nThe text contains a proposal to admini...   \n",
       "Spatial scope      * Local\\nPromoting sustainable behavior and en...   \n",
       "Time Horizon       * \"Educational\", \"Time Horizon\", \"1 year\"\\n* T...   \n",
       "\n",
       "                                                  Innovative process  \n",
       "Level of Analysis  * Micro\\nThe text discusses the importance of ...  \n",
       "Spatial scope      * National\\n* The text proposes a Climate and ...  \n",
       "Time Horizon       * \"Innovative process\", \"Time Horizon\", \"5 yea...  "
      ]
     },
     "execution_count": 15,
     "metadata": {},
     "output_type": "execute_result"
    }
   ],
   "source": [
    "df = pd.DataFrame(CERNA_review)\n",
    "st.table(df)\n"
   ]
  },
  {
   "cell_type": "code",
   "execution_count": 19,
   "metadata": {},
   "outputs": [],
   "source": [
    "book.save('CERNA.xlsx')"
   ]
  },
  {
   "cell_type": "code",
   "execution_count": 72,
   "metadata": {},
   "outputs": [
    {
     "data": {
      "text/plain": [
       "<openpyxl.workbook.workbook.Workbook at 0x74b7b0e9eb10>"
      ]
     },
     "execution_count": 72,
     "metadata": {},
     "output_type": "execute_result"
    }
   ],
   "source": [
    "book"
   ]
  }
 ],
 "metadata": {
  "kernelspec": {
   "display_name": ".venv",
   "language": "python",
   "name": "python3"
  },
  "language_info": {
   "codemirror_mode": {
    "name": "ipython",
    "version": 3
   },
   "file_extension": ".py",
   "mimetype": "text/x-python",
   "name": "python",
   "nbconvert_exporter": "python",
   "pygments_lexer": "ipython3",
   "version": "3.11.3"
  }
 },
 "nbformat": 4,
 "nbformat_minor": 2
}
