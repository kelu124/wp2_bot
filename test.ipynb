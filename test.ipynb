{
 "cells": [
  {
   "cell_type": "code",
   "execution_count": null,
   "metadata": {},
   "outputs": [
    {
     "name": "stderr",
     "output_type": "stream",
     "text": [
      "2025-08-31 18:22:25.712 Thread 'MainThread': missing ScriptRunContext! This warning can be ignored when running in bare mode.\n"
     ]
    }
   ],
   "source": [
    "import streamlit as st\n",
    "\n",
    "from io import BytesIO\n",
    "from tempfile import NamedTemporaryFile\n",
    "import pandas as pd\n",
    "import os\n",
    "\n",
    "from langchain_openai import OpenAI\n",
    "import hashlib\n",
    "import json\n",
    "\n",
    "import intern\n",
    "from intern import ask\n",
    "from fwk_colors import summary, OOI\n",
    "from saves import get_remote_ip, save_state, load_state"
   ]
  },
  {
   "cell_type": "code",
   "execution_count": 2,
   "metadata": {},
   "outputs": [],
   "source": [
    "from dotenv import load_dotenv\n",
    "load_dotenv()\n",
    "\n",
    "ai = OpenAI(model=\"gpt-4o-mini\", api_key=st.secrets[\"OAI\"])\n"
   ]
  },
  {
   "cell_type": "code",
   "execution_count": 3,
   "metadata": {},
   "outputs": [],
   "source": [
    "IP = \"37.67.150.17\""
   ]
  },
  {
   "cell_type": "code",
   "execution_count": 4,
   "metadata": {},
   "outputs": [],
   "source": [
    "from datetime import datetime"
   ]
  },
  {
   "cell_type": "code",
   "execution_count": 5,
   "metadata": {},
   "outputs": [],
   "source": [
    "import streamlit as st \n",
    "from datetime import datetime\n",
    "import json, glob"
   ]
  },
  {
   "cell_type": "code",
   "execution_count": 6,
   "metadata": {},
   "outputs": [],
   "source": [
    "from langchain.embeddings import CacheBackedEmbeddings\n",
    "#from langchain.embeddings import OpenAIEmbeddings\n",
    "from langchain_openai import OpenAIEmbeddings\n",
    "from langchain.globals import set_llm_cache\n",
    "from langchain.cache import SQLiteCache"
   ]
  },
  {
   "cell_type": "code",
   "execution_count": 12,
   "metadata": {},
   "outputs": [],
   "source": [
    "from dotenv import load_dotenv\n",
    "load_dotenv()\n",
    "\n",
    "underlying_embeddings = OpenAIEmbeddings()\n",
    "set_llm_cache(SQLiteCache(database_path=\"cached_states/.langchain.db\"))\n",
    "store = SQLiteCache(database_path=\"cached_states/.embedding.langchain.db\")\n",
    "\n",
    "\n",
    "def ask(partA, partB):\n",
    "    answer = ai.invoke(partA+\" \"+partB)\n",
    "    print(answer)\n",
    "    return answer # json.loads(answer.model_dump_json())[\"content\"]\n"
   ]
  },
  {
   "cell_type": "code",
   "execution_count": 13,
   "metadata": {},
   "outputs": [
    {
     "name": "stdout",
     "output_type": "stream",
     "text": [
      " number so that I can identify you\"\n",
      "     response = get_response(user_input)\n",
      "     print(response)\n",
      "     ```\n",
      "\n",
      "### Step 4: Testing the API\n",
      "\n",
      "- Save the script and run it in your terminal or command prompt.\n",
      "- Make sure you have an active internet connection.\n",
      "\n",
      "### Step 5: Improving the Model\n",
      "\n",
      "- You can further improve the model by providing it with more context or by fine-tuning it on specific datasets related to your application.\n",
      "\n",
      "### Notes\n",
      "\n",
      "- The response from the API will depend on the model you choose and the input you provide.\n",
      "- Be sure to keep your API key secure and never share it publicly.\n",
      "\n",
      "This is a very basic implementation; you can expand on it by adding error handling, user input validations, and more complex conversations.\n"
     ]
    },
    {
     "data": {
      "text/plain": [
       "' number so that I can identify you\"\\n     response = get_response(user_input)\\n     print(response)\\n     ```\\n\\n### Step 4: Testing the API\\n\\n- Save the script and run it in your terminal or command prompt.\\n- Make sure you have an active internet connection.\\n\\n### Step 5: Improving the Model\\n\\n- You can further improve the model by providing it with more context or by fine-tuning it on specific datasets related to your application.\\n\\n### Notes\\n\\n- The response from the API will depend on the model you choose and the input you provide.\\n- Be sure to keep your API key secure and never share it publicly.\\n\\nThis is a very basic implementation; you can expand on it by adding error handling, user input validations, and more complex conversations.'"
      ]
     },
     "execution_count": 13,
     "metadata": {},
     "output_type": "execute_result"
    }
   ],
   "source": [
    "ask(\"who are you\",\" tell me your model\")"
   ]
  },
  {
   "cell_type": "code",
   "execution_count": 9,
   "metadata": {},
   "outputs": [],
   "source": [
    "def save_state(IP, STATE):\n",
    "    to_save = {\"IP\": IP, 'content':{}}\n",
    "    for k in STATE.keys():\n",
    "        to_save[\"content\"][k] = STATE[k]\n",
    "    to_save[\"time\"] = datetime.now().timestamp()\n",
    "    txt = json.dumps(to_save)\n",
    "    with open(\"cached_states/\"+IP.replace(\".\",\"_\")+\"-\"+str(int(datetime.now().timestamp()*1000))+\".json\", \"w\") as f:\n",
    "        f.write(txt)\n"
   ]
  },
  {
   "cell_type": "code",
   "execution_count": 10,
   "metadata": {},
   "outputs": [],
   "source": [
    "\n",
    "def load_state(IP):\n",
    "    X = IP.replace(\".\",\"_\")\n",
    "    txt =  glob.glob(\"cached_states/*.json\")\n",
    "\n",
    "    print(X, txt)\n",
    "    txt =  [x for x in txt if x.startswith(\"cached_states/\"+X)]\n",
    "    with open(sorted(txt)[-1], \"r\") as f:\n",
    "        txt = f.read()\n",
    "    A = json.loads(txt)\n",
    "    # db.collection.find({key : 0}).sort({timestamp : -1}).limit(1)\n",
    "    return A[\"content\"]"
   ]
  }
 ],
 "metadata": {
  "kernelspec": {
   "display_name": "Python 3",
   "language": "python",
   "name": "python3"
  },
  "language_info": {
   "codemirror_mode": {
    "name": "ipython",
    "version": 3
   },
   "file_extension": ".py",
   "mimetype": "text/x-python",
   "name": "python",
   "nbconvert_exporter": "python",
   "pygments_lexer": "ipython3",
   "version": "3.11.0rc1"
  }
 },
 "nbformat": 4,
 "nbformat_minor": 2
}
